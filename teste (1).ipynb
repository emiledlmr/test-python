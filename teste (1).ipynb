{
 "cells": [
  {
   "cell_type": "code",
   "execution_count": null,
   "metadata": {},
   "outputs": [],
   "source": [
    "def afficher_jusqua_0_it(n):\n",
    "    if n>0:\n",
    "        print(\"affichage\" +str(n)+\" à 0 : \")\n",
    "        for i in range(n,0, -1):\n",
    "            return i\n",
    "    elif n<0:\n",
    "        print(\"nombre > à 0\")\n",
    "    else:\n",
    "        print(\"rares fait du python. Whouhouuuu trop cool rares en python.\")"
   ]
  },
  {
   "cell_type": "code",
   "execution_count": null,
   "metadata": {},
   "outputs": [],
   "source": [
    "afficher_jusqua_0_it(10)"
   ]
  },
  {
   "cell_type": "code",
   "execution_count": null,
   "metadata": {},
   "outputs": [],
   "source": [
    "def afficher_jusqua_0_rec(n):\n",
    "    if n>0:\n",
    "        print(\"Affichage \"+str(n)+\" à 0 : \")\n",
    "        print(n)\n",
    "        afficher_jusqua_0_rec(n-1)"
   ]
  },
  {
   "cell_type": "code",
   "execution_count": null,
   "metadata": {},
   "outputs": [],
   "source": [
    "afficher_jusqua_0_rec(10)"
   ]
  }
 ],
 "metadata": {
  "kernelspec": {
   "display_name": "Python 3",
   "language": "python",
   "name": "python3"
  },
  "language_info": {
   "codemirror_mode": {
    "name": "ipython",
    "version": 3
   },
   "file_extension": ".py",
   "mimetype": "text/x-python",
   "name": "python",
   "nbconvert_exporter": "python",
   "pygments_lexer": "ipython3",
   "version": "3.7.1"
  }
 },
 "nbformat": 4,
 "nbformat_minor": 2
}
